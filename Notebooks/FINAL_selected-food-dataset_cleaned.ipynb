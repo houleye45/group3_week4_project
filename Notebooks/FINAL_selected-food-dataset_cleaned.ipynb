{
 "cells": [
  {
   "cell_type": "markdown",
   "metadata": {},
   "source": [
    "### Cleaning Fast_food dataset"
   ]
  },
  {
   "cell_type": "code",
   "execution_count": 42,
   "metadata": {},
   "outputs": [
    {
     "data": {
      "text/plain": [
       "Index(['restaurant', 'food_name', 'calories_kcal', 'total_fat_g',\n",
       "       'saturated_fat_g', 'cholesterol_mg', 'sodium_g', 'total_carb',\n",
       "       'fiber_g', 'sugar_g', 'protein_g', 'vitamin_A_mg', 'vitamin_C_mg',\n",
       "       'calcium_mg'],\n",
       "      dtype='object')"
      ]
     },
     "execution_count": 42,
     "metadata": {},
     "output_type": "execute_result"
    }
   ],
   "source": [
    "import numpy as np\n",
    "import pandas as pd\n",
    "\n",
    "fast_food = pd.read_csv(\"https://raw.githubusercontent.com/houleye45/group3_week4_project/main/data/clean/Items%20selected%20for%20analysis%20-%20fast_foot.csv\")\n",
    "\n",
    "\n",
    "fast_food.columns"
   ]
  },
  {
   "cell_type": "code",
   "execution_count": 43,
   "metadata": {},
   "outputs": [
    {
     "data": {
      "text/plain": [
       "Index(['restaurant', 'food_name', 'calories_kcal', 'total_fat_g',\n",
       "       'saturated_fat_g', 'cholesterol_mg', 'sodium_g', 'carbohydrates_g',\n",
       "       'fiber_g', 'sugar_g', 'protein_g', 'vitamin_A_mg', 'vitamin_C_mg',\n",
       "       'calcium_mg'],\n",
       "      dtype='object')"
      ]
     },
     "execution_count": 43,
     "metadata": {},
     "output_type": "execute_result"
    }
   ],
   "source": [
    "#Renaming columns\n",
    "\n",
    "new_columns = {\"restaurant\":\"restaurant\", \"item\":\"food_name\", \"calories\":\"calories_kcal\",\n",
    "               \"total_fat\":\"total_fat_g\", \"sat_fat\":\"saturated_fat_g\", \"cholesterol\":\"cholesterol_mg\",\n",
    "               \"sodium\":\"sodium_g\", \"total_carb\":\"carbohydrates_g\", \"fiber\":\"fiber_g\", \"sugar\":\"sugar_g\",\n",
    "               \"protein\":\"protein_g\", \"vit_a\":\"vitamin_A_mg\", \"vit_c\":\"vitamin_C_mg\", \"calcium\":\"calcium_mg\"\n",
    "              }\n",
    "\n",
    "fast_food = fast_food.rename(columns=new_columns)\n",
    "fast_food.columns"
   ]
  },
  {
   "cell_type": "code",
   "execution_count": 44,
   "metadata": {},
   "outputs": [
    {
     "data": {
      "text/plain": [
       "food_name\n",
       "Grilled Bacon Smokehouse Chicken Sandwich      1\n",
       "Lobster Roll                                   1\n",
       "McChicken                                      1\n",
       "4 piece Buttermilk Crispy Chicken Tenders      1\n",
       "Premium Asian Salad w Grilled Chicken          1\n",
       "Chargrilled Chicken Sandwich                   1\n",
       "4 piece ChicknStrips                           1\n",
       "6 piece Chicken Nuggets                        1\n",
       "Chicken Salad Sandwich                         1\n",
       "Smokehouse BBQ Bacon Sandwich                  1\n",
       "Super Sonic Bacon Double Cheeseburger          1\n",
       "Grilled Asiago Caesar Chicken Club Sandwich    1\n",
       "Small Jumbo Popcorn Chicken                    1\n",
       "4 Piece Super Crunch Chicken Strips            1\n",
       "All Beef Chili Cheese Coney                    1\n",
       "Beef n Cheddar Classic                         1\n",
       "3 piece PrimeCut Chicken Tenders               1\n",
       "Roast Turkey Swiss Sandwich                    1\n",
       "Roast Turkey Ranch Bacon Wrap                  1\n",
       "Crispy Chicken Farmhouse Salad                 1\n",
       "GrillBurger with Cheese                        1\n",
       "Mushroom Swiss GrillBurger                     1\n",
       "Breaded Mushrooms                              1\n",
       "Crispy Fish Sandwich                           1\n",
       "Grilled Chicken Wrap                           1\n",
       "6 Chicken Bacon Ranch Melt                     1\n",
       "Footlong Veggie Delite                         1\n",
       "Footlong Veggie Patty                          1\n",
       "Double Chicken Salad                           1\n",
       "Roast Beef Salad                               1\n",
       "Tuna Salad                                     1\n",
       "Veggie Delite Salad                            1\n",
       "Pepperoni Pizza                                1\n",
       "Steak Crunchy Cheesy Core Burrito              1\n",
       "Spicy Sweet Double Stacked Taco                1\n",
       "Triple Melt Nachos                             1\n",
       "Crispy Chicken Quesadilla                      1\n",
       "Spicy Triple Double Crunchwrap                 1\n",
       "Premium Asian Salad                            1\n",
       "8 piece Grilled Chicken Nuggets                1\n",
       "Oven Roasted Chicken Salad                     1\n",
       "Subway Club Salad                              1\n",
       "4 piece Chicken Nuggets                        1\n",
       "1 Piece ChicknStrips                           1\n",
       "6 Piece Grilled Chicken Nuggets                1\n",
       "Black Forest Ham Salad                         1\n",
       "Turkey Breast Ham Salad                        1\n",
       "Turkey Breast Salad                            1\n",
       "Ultimate Chicken Club                          1\n",
       "4 Piece Grilled Chicken Nuggets                1\n",
       "Chopped Side Salad                             1\n",
       "Name: count, dtype: int64"
      ]
     },
     "execution_count": 44,
     "metadata": {},
     "output_type": "execute_result"
    }
   ],
   "source": [
    "fast_food = fast_food.drop_duplicates(subset='food_name')\n",
    "fast_food.food_name.value_counts()"
   ]
  },
  {
   "cell_type": "code",
   "execution_count": 45,
   "metadata": {},
   "outputs": [],
   "source": [
    "df1 = fast_food"
   ]
  },
  {
   "cell_type": "code",
   "execution_count": 46,
   "metadata": {},
   "outputs": [],
   "source": [
    "#Converting numerical values to float \n",
    "df1[df1.select_dtypes(include='number').columns] = df1.select_dtypes(include='number').astype(float)"
   ]
  },
  {
   "cell_type": "code",
   "execution_count": 47,
   "metadata": {},
   "outputs": [],
   "source": [
    "df1['category'] = \"Fast Food\""
   ]
  },
  {
   "cell_type": "code",
   "execution_count": 48,
   "metadata": {},
   "outputs": [
    {
     "data": {
      "text/plain": [
       "Index(['restaurant', 'food_name', 'calories_kcal', 'total_fat_g',\n",
       "       'saturated_fat_g', 'cholesterol_mg', 'sodium_g', 'carbohydrates_g',\n",
       "       'fiber_g', 'sugar_g', 'protein_g', 'vitamin_A_mg', 'vitamin_C_mg',\n",
       "       'calcium_mg', 'category'],\n",
       "      dtype='object')"
      ]
     },
     "execution_count": 48,
     "metadata": {},
     "output_type": "execute_result"
    }
   ],
   "source": [
    "df1.columns"
   ]
  },
  {
   "cell_type": "markdown",
   "metadata": {},
   "source": [
    "### Cleaning General_food dataset"
   ]
  },
  {
   "cell_type": "code",
   "execution_count": 49,
   "metadata": {},
   "outputs": [],
   "source": [
    "import pandas as pd\n",
    "general_food = pd.read_csv('https://raw.githubusercontent.com/houleye45/group3_week4_project/main/data/clean/general_food_items_selected%20-%20Sheet1.csv')"
   ]
  },
  {
   "cell_type": "code",
   "execution_count": 50,
   "metadata": {},
   "outputs": [
    {
     "data": {
      "text/plain": [
       "Index(['Unnamed: 0.1', 'Unnamed: 0', 'food', 'Caloric Value', 'Fat',\n",
       "       'Saturated Fats', 'Monounsaturated Fats', 'Polyunsaturated Fats',\n",
       "       'Carbohydrates', 'Sugars', 'Protein', 'Dietary Fiber', 'Cholesterol',\n",
       "       'Sodium', 'Water', 'Vitamin A', 'Vitamin B1', 'Vitamin B11',\n",
       "       'Vitamin B12', 'Vitamin B2', 'Vitamin B3', 'Vitamin B5', 'Vitamin B6',\n",
       "       'Vitamin C', 'Vitamin D', 'Vitamin E', 'Vitamin K', 'Calcium', 'Copper',\n",
       "       'Iron', 'Magnesium', 'Manganese', 'Phosphorus', 'Potassium', 'Selenium',\n",
       "       'Zinc', 'Nutrition Density'],\n",
       "      dtype='object')"
      ]
     },
     "execution_count": 50,
     "metadata": {},
     "output_type": "execute_result"
    }
   ],
   "source": [
    "general_food.columns"
   ]
  },
  {
   "cell_type": "code",
   "execution_count": 51,
   "metadata": {},
   "outputs": [],
   "source": [
    "#Formatting the columns\n",
    "general_food = general_food.rename(columns={ col: col.replace(\" \",\"_\").lower() for col in general_food.columns })"
   ]
  },
  {
   "cell_type": "code",
   "execution_count": 52,
   "metadata": {},
   "outputs": [],
   "source": [
    "general_food = general_food.drop(['unnamed:_0.1','unnamed:_0'], axis = 1)"
   ]
  },
  {
   "cell_type": "code",
   "execution_count": 53,
   "metadata": {},
   "outputs": [],
   "source": [
    "new_columns = {\n",
    "    \"food\": \"food_name\", \n",
    "    \"caloric_value\": \"calories_kcal\", \n",
    "    \"fat\": \"total_fat_g\", \n",
    "    \"saturated_fats\": \"saturated_fat_g\", \n",
    "    \"cholesterol\": \"cholesterol_mg\",\n",
    "    \"sodium\": \"sodium_g\", \n",
    "    \"carbohydrates\": \"carbohydrates_g\",  \n",
    "    \"dietary_fiber\": \"fiber_g\", \n",
    "    \"sugars\": \"sugar_g\",\n",
    "    \"protein\": \"protein_g\", \n",
    "    \"vitamin_a\": \"vitamin_A_mg\", \n",
    "    \"vitamin_c\": \"vitamin_C_mg\", \n",
    "    \"calcium\": \"calcium_mg\"\n",
    "}\n",
    "\n",
    "general_food.rename(columns=new_columns, inplace=True)\n",
    "\n",
    "general_food = general_food[list(new_columns.values())]"
   ]
  },
  {
   "cell_type": "code",
   "execution_count": 54,
   "metadata": {},
   "outputs": [
    {
     "data": {
      "text/plain": [
       "Index(['food_name', 'calories_kcal', 'total_fat_g', 'saturated_fat_g',\n",
       "       'cholesterol_mg', 'sodium_g', 'carbohydrates_g', 'fiber_g', 'sugar_g',\n",
       "       'protein_g', 'vitamin_A_mg', 'vitamin_C_mg', 'calcium_mg'],\n",
       "      dtype='object')"
      ]
     },
     "execution_count": 54,
     "metadata": {},
     "output_type": "execute_result"
    }
   ],
   "source": [
    "general_food.columns"
   ]
  },
  {
   "cell_type": "code",
   "execution_count": 55,
   "metadata": {},
   "outputs": [
    {
     "data": {
      "text/plain": [
       "food_name          0\n",
       "calories_kcal      0\n",
       "total_fat_g        0\n",
       "saturated_fat_g    0\n",
       "cholesterol_mg     0\n",
       "sodium_g           0\n",
       "carbohydrates_g    0\n",
       "fiber_g            0\n",
       "sugar_g            0\n",
       "protein_g          0\n",
       "vitamin_A_mg       0\n",
       "vitamin_C_mg       0\n",
       "calcium_mg         0\n",
       "dtype: int64"
      ]
     },
     "execution_count": 55,
     "metadata": {},
     "output_type": "execute_result"
    }
   ],
   "source": [
    "#Checking null values \n",
    "general_food.isna().sum()"
   ]
  },
  {
   "cell_type": "code",
   "execution_count": 56,
   "metadata": {},
   "outputs": [],
   "source": [
    "df2  = general_food"
   ]
  },
  {
   "cell_type": "code",
   "execution_count": 57,
   "metadata": {},
   "outputs": [],
   "source": [
    "#Adding column \"cateopry\"\n",
    "df2['category'] = \"General Food\""
   ]
  },
  {
   "cell_type": "code",
   "execution_count": 58,
   "metadata": {},
   "outputs": [],
   "source": [
    "#Converting numerical values to float \n",
    "df1[df1.select_dtypes(include='number').columns] = df1.select_dtypes(include='number').astype(float)\n",
    "df2[df2.select_dtypes(include='number').columns] = df2.select_dtypes(include='number').astype(float)"
   ]
  },
  {
   "cell_type": "markdown",
   "metadata": {},
   "source": [
    "### Combining both dataset"
   ]
  },
  {
   "cell_type": "code",
   "execution_count": 59,
   "metadata": {},
   "outputs": [],
   "source": [
    "df_food = pd.concat([df1, df2], ignore_index=True)"
   ]
  },
  {
   "cell_type": "code",
   "execution_count": 60,
   "metadata": {},
   "outputs": [
    {
     "data": {
      "text/plain": [
       "Index(['restaurant', 'food_name', 'calories_kcal', 'total_fat_g',\n",
       "       'saturated_fat_g', 'cholesterol_mg', 'sodium_g', 'carbohydrates_g',\n",
       "       'fiber_g', 'sugar_g', 'protein_g', 'vitamin_A_mg', 'vitamin_C_mg',\n",
       "       'calcium_mg', 'category'],\n",
       "      dtype='object')"
      ]
     },
     "execution_count": 60,
     "metadata": {},
     "output_type": "execute_result"
    }
   ],
   "source": [
    "df_food.columns"
   ]
  },
  {
   "cell_type": "code",
   "execution_count": 61,
   "metadata": {},
   "outputs": [
    {
     "data": {
      "text/plain": [
       "restaurant         114\n",
       "food_name            0\n",
       "calories_kcal        0\n",
       "total_fat_g          0\n",
       "saturated_fat_g      0\n",
       "cholesterol_mg       0\n",
       "sodium_g             0\n",
       "carbohydrates_g      0\n",
       "fiber_g              0\n",
       "sugar_g              0\n",
       "protein_g            0\n",
       "vitamin_A_mg         0\n",
       "vitamin_C_mg         0\n",
       "calcium_mg           0\n",
       "category             0\n",
       "dtype: int64"
      ]
     },
     "execution_count": 61,
     "metadata": {},
     "output_type": "execute_result"
    }
   ],
   "source": [
    "df_food.isna().sum()"
   ]
  },
  {
   "cell_type": "code",
   "execution_count": 62,
   "metadata": {},
   "outputs": [
    {
     "data": {
      "text/plain": [
       "restaurant         0\n",
       "food_name          0\n",
       "calories_kcal      0\n",
       "total_fat_g        0\n",
       "saturated_fat_g    0\n",
       "cholesterol_mg     0\n",
       "sodium_g           0\n",
       "carbohydrates_g    0\n",
       "fiber_g            0\n",
       "sugar_g            0\n",
       "protein_g          0\n",
       "vitamin_A_mg       0\n",
       "vitamin_C_mg       0\n",
       "calcium_mg         0\n",
       "category           0\n",
       "dtype: int64"
      ]
     },
     "execution_count": 62,
     "metadata": {},
     "output_type": "execute_result"
    }
   ],
   "source": [
    "df_food = df_food.fillna('Not Fast Food')\n",
    "df_food.isna().sum()"
   ]
  },
  {
   "cell_type": "code",
   "execution_count": 63,
   "metadata": {},
   "outputs": [],
   "source": [
    "df_food = df_food.apply(lambda x: x.str.replace('®', '', regex=False) if x.dtype == \"object\" else x)"
   ]
  },
  {
   "cell_type": "code",
   "execution_count": 64,
   "metadata": {},
   "outputs": [],
   "source": [
    "df_food.to_csv('selected_food_cleaned', index=True)"
   ]
  }
 ],
 "metadata": {
  "kernelspec": {
   "display_name": "base",
   "language": "python",
   "name": "python3"
  },
  "language_info": {
   "codemirror_mode": {
    "name": "ipython",
    "version": 3
   },
   "file_extension": ".py",
   "mimetype": "text/x-python",
   "name": "python",
   "nbconvert_exporter": "python",
   "pygments_lexer": "ipython3",
   "version": "3.12.4"
  }
 },
 "nbformat": 4,
 "nbformat_minor": 2
}
