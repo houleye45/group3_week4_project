{
 "cells": [
  {
   "cell_type": "code",
   "execution_count": 20,
   "metadata": {},
   "outputs": [],
   "source": [
    "import pandas as pd\n",
    "df1 = pd.read_csv('https://raw.githubusercontent.com/houleye45/group3_week4_project/main/data/clean/cleaned_fastfood_df.csv')\n",
    "df2 = pd.read_csv('https://raw.githubusercontent.com/houleye45/group3_week4_project/main/data/clean/cleaned_general_food_df1_to_5.csv')"
   ]
  },
  {
   "cell_type": "code",
   "execution_count": 21,
   "metadata": {},
   "outputs": [],
   "source": [
    "#Converting numerical values to float \n",
    "df1[df1.select_dtypes(include='number').columns] = df1.select_dtypes(include='number').astype(float)"
   ]
  },
  {
   "cell_type": "code",
   "execution_count": 22,
   "metadata": {},
   "outputs": [
    {
     "data": {
      "text/plain": [
       "Unnamed: 0         float64\n",
       "restaurant          object\n",
       "food_name           object\n",
       "calories_kcal      float64\n",
       "total_fat_g        float64\n",
       "saturated_fat_g    float64\n",
       "cholesterol_mg     float64\n",
       "sodium_g           float64\n",
       "carbohydrates_g    float64\n",
       "fiber_g            float64\n",
       "sugar_g            float64\n",
       "protein_g          float64\n",
       "vitamin_A_mg       float64\n",
       "vitamin_C_mg       float64\n",
       "calcium_mg         float64\n",
       "dtype: object"
      ]
     },
     "execution_count": 22,
     "metadata": {},
     "output_type": "execute_result"
    }
   ],
   "source": [
    "df1.dtypes"
   ]
  },
  {
   "cell_type": "code",
   "execution_count": 23,
   "metadata": {},
   "outputs": [],
   "source": [
    "#Converting numerical values to float \n",
    "df2[df2.select_dtypes(include='number').columns] = df2.select_dtypes(include='number').astype(float)"
   ]
  },
  {
   "cell_type": "code",
   "execution_count": 24,
   "metadata": {},
   "outputs": [
    {
     "data": {
      "text/plain": [
       "Unnamed: 0         float64\n",
       "food_name           object\n",
       "calories_kcal      float64\n",
       "total_fat_g        float64\n",
       "saturated_fat_g    float64\n",
       "cholesterol_mg     float64\n",
       "sodium_g           float64\n",
       "carbohydrates_g    float64\n",
       "fiber_g            float64\n",
       "sugar_g            float64\n",
       "protein_g          float64\n",
       "vitamin_A_mg       float64\n",
       "vitamin_C_mg       float64\n",
       "calcium_mg         float64\n",
       "dtype: object"
      ]
     },
     "execution_count": 24,
     "metadata": {},
     "output_type": "execute_result"
    }
   ],
   "source": [
    "df2.dtypes"
   ]
  },
  {
   "cell_type": "code",
   "execution_count": 25,
   "metadata": {},
   "outputs": [],
   "source": [
    "#Adding column \"cateopry\"\n",
    "\n",
    "df1['category'] = \"Fast Food\"\n",
    "df2['category'] = \"General Food\""
   ]
  },
  {
   "cell_type": "code",
   "execution_count": 26,
   "metadata": {},
   "outputs": [
    {
     "data": {
      "text/plain": [
       "Index(['Unnamed: 0', 'restaurant', 'food_name', 'calories_kcal', 'total_fat_g',\n",
       "       'saturated_fat_g', 'cholesterol_mg', 'sodium_g', 'carbohydrates_g',\n",
       "       'fiber_g', 'sugar_g', 'protein_g', 'vitamin_A_mg', 'vitamin_C_mg',\n",
       "       'calcium_mg', 'category'],\n",
       "      dtype='object')"
      ]
     },
     "execution_count": 26,
     "metadata": {},
     "output_type": "execute_result"
    }
   ],
   "source": [
    "df1.columns"
   ]
  },
  {
   "cell_type": "code",
   "execution_count": 27,
   "metadata": {},
   "outputs": [],
   "source": [
    "df1 = df1.drop([\"Unnamed: 0\"], axis = 1)\n",
    "df2 = df2.drop([\"Unnamed: 0\"], axis = 1)"
   ]
  },
  {
   "cell_type": "code",
   "execution_count": 28,
   "metadata": {},
   "outputs": [],
   "source": [
    "df_food = pd.concat([df1, df2], ignore_index=True)\n"
   ]
  },
  {
   "cell_type": "code",
   "execution_count": 29,
   "metadata": {},
   "outputs": [
    {
     "data": {
      "text/plain": [
       "Index(['restaurant', 'food_name', 'calories_kcal', 'total_fat_g',\n",
       "       'saturated_fat_g', 'cholesterol_mg', 'sodium_g', 'carbohydrates_g',\n",
       "       'fiber_g', 'sugar_g', 'protein_g', 'vitamin_A_mg', 'vitamin_C_mg',\n",
       "       'calcium_mg', 'category'],\n",
       "      dtype='object')"
      ]
     },
     "execution_count": 29,
     "metadata": {},
     "output_type": "execute_result"
    }
   ],
   "source": [
    "df_food.columns"
   ]
  },
  {
   "cell_type": "code",
   "execution_count": null,
   "metadata": {},
   "outputs": [
    {
     "data": {
      "text/html": [
       "<div>\n",
       "<style scoped>\n",
       "    .dataframe tbody tr th:only-of-type {\n",
       "        vertical-align: middle;\n",
       "    }\n",
       "\n",
       "    .dataframe tbody tr th {\n",
       "        vertical-align: top;\n",
       "    }\n",
       "\n",
       "    .dataframe thead th {\n",
       "        text-align: right;\n",
       "    }\n",
       "</style>\n",
       "<table border=\"1\" class=\"dataframe\">\n",
       "  <thead>\n",
       "    <tr style=\"text-align: right;\">\n",
       "      <th></th>\n",
       "      <th>restaurant</th>\n",
       "      <th>food_name</th>\n",
       "      <th>calories_kcal</th>\n",
       "      <th>total_fat_g</th>\n",
       "      <th>saturated_fat_g</th>\n",
       "      <th>cholesterol_mg</th>\n",
       "      <th>sodium_g</th>\n",
       "      <th>total_carb</th>\n",
       "      <th>fiber_g</th>\n",
       "      <th>sugar_g</th>\n",
       "      <th>protein_g</th>\n",
       "      <th>vitamin_A_mg</th>\n",
       "      <th>vitamin_C_mg</th>\n",
       "      <th>calcium_mg</th>\n",
       "      <th>category</th>\n",
       "      <th>carbohydrates_g</th>\n",
       "    </tr>\n",
       "  </thead>\n",
       "  <tbody>\n",
       "    <tr>\n",
       "      <th>0</th>\n",
       "      <td>Mcdonalds</td>\n",
       "      <td>Artisan Grilled Chicken Sandwich</td>\n",
       "      <td>380</td>\n",
       "      <td>7.0</td>\n",
       "      <td>2.0</td>\n",
       "      <td>95.0</td>\n",
       "      <td>1110.0</td>\n",
       "      <td>44.0</td>\n",
       "      <td>3.0</td>\n",
       "      <td>11.0</td>\n",
       "      <td>37.0</td>\n",
       "      <td>4.0</td>\n",
       "      <td>20.0</td>\n",
       "      <td>20.0</td>\n",
       "      <td>General Food</td>\n",
       "      <td>NaN</td>\n",
       "    </tr>\n",
       "    <tr>\n",
       "      <th>1</th>\n",
       "      <td>Mcdonalds</td>\n",
       "      <td>Single Bacon Smokehouse Burger</td>\n",
       "      <td>840</td>\n",
       "      <td>45.0</td>\n",
       "      <td>17.0</td>\n",
       "      <td>130.0</td>\n",
       "      <td>1580.0</td>\n",
       "      <td>62.0</td>\n",
       "      <td>2.0</td>\n",
       "      <td>18.0</td>\n",
       "      <td>46.0</td>\n",
       "      <td>6.0</td>\n",
       "      <td>20.0</td>\n",
       "      <td>20.0</td>\n",
       "      <td>General Food</td>\n",
       "      <td>NaN</td>\n",
       "    </tr>\n",
       "    <tr>\n",
       "      <th>2</th>\n",
       "      <td>Mcdonalds</td>\n",
       "      <td>Double Bacon Smokehouse Burger</td>\n",
       "      <td>1130</td>\n",
       "      <td>67.0</td>\n",
       "      <td>27.0</td>\n",
       "      <td>220.0</td>\n",
       "      <td>1920.0</td>\n",
       "      <td>63.0</td>\n",
       "      <td>3.0</td>\n",
       "      <td>18.0</td>\n",
       "      <td>70.0</td>\n",
       "      <td>10.0</td>\n",
       "      <td>20.0</td>\n",
       "      <td>50.0</td>\n",
       "      <td>General Food</td>\n",
       "      <td>NaN</td>\n",
       "    </tr>\n",
       "    <tr>\n",
       "      <th>3</th>\n",
       "      <td>Mcdonalds</td>\n",
       "      <td>Grilled Bacon Smokehouse Chicken Sandwich</td>\n",
       "      <td>750</td>\n",
       "      <td>31.0</td>\n",
       "      <td>10.0</td>\n",
       "      <td>155.0</td>\n",
       "      <td>1940.0</td>\n",
       "      <td>62.0</td>\n",
       "      <td>2.0</td>\n",
       "      <td>18.0</td>\n",
       "      <td>55.0</td>\n",
       "      <td>6.0</td>\n",
       "      <td>25.0</td>\n",
       "      <td>20.0</td>\n",
       "      <td>General Food</td>\n",
       "      <td>NaN</td>\n",
       "    </tr>\n",
       "    <tr>\n",
       "      <th>4</th>\n",
       "      <td>Mcdonalds</td>\n",
       "      <td>Crispy Bacon Smokehouse Chicken Sandwich</td>\n",
       "      <td>920</td>\n",
       "      <td>45.0</td>\n",
       "      <td>12.0</td>\n",
       "      <td>120.0</td>\n",
       "      <td>1980.0</td>\n",
       "      <td>81.0</td>\n",
       "      <td>4.0</td>\n",
       "      <td>18.0</td>\n",
       "      <td>46.0</td>\n",
       "      <td>6.0</td>\n",
       "      <td>20.0</td>\n",
       "      <td>20.0</td>\n",
       "      <td>General Food</td>\n",
       "      <td>NaN</td>\n",
       "    </tr>\n",
       "  </tbody>\n",
       "</table>\n",
       "</div>"
      ],
      "text/plain": [
       "  restaurant                                  food_name  calories_kcal  \\\n",
       "0  Mcdonalds           Artisan Grilled Chicken Sandwich            380   \n",
       "1  Mcdonalds             Single Bacon Smokehouse Burger            840   \n",
       "2  Mcdonalds             Double Bacon Smokehouse Burger           1130   \n",
       "3  Mcdonalds  Grilled Bacon Smokehouse Chicken Sandwich            750   \n",
       "4  Mcdonalds   Crispy Bacon Smokehouse Chicken Sandwich            920   \n",
       "\n",
       "   total_fat_g  saturated_fat_g  cholesterol_mg  sodium_g  total_carb  \\\n",
       "0          7.0              2.0            95.0    1110.0        44.0   \n",
       "1         45.0             17.0           130.0    1580.0        62.0   \n",
       "2         67.0             27.0           220.0    1920.0        63.0   \n",
       "3         31.0             10.0           155.0    1940.0        62.0   \n",
       "4         45.0             12.0           120.0    1980.0        81.0   \n",
       "\n",
       "   fiber_g  sugar_g  protein_g  vitamin_A_mg  vitamin_C_mg  calcium_mg  \\\n",
       "0      3.0     11.0       37.0           4.0          20.0        20.0   \n",
       "1      2.0     18.0       46.0           6.0          20.0        20.0   \n",
       "2      3.0     18.0       70.0          10.0          20.0        50.0   \n",
       "3      2.0     18.0       55.0           6.0          25.0        20.0   \n",
       "4      4.0     18.0       46.0           6.0          20.0        20.0   \n",
       "\n",
       "       category  carbohydrates_g  \n",
       "0  General Food              NaN  \n",
       "1  General Food              NaN  \n",
       "2  General Food              NaN  \n",
       "3  General Food              NaN  \n",
       "4  General Food              NaN  "
      ]
     },
     "execution_count": 29,
     "metadata": {},
     "output_type": "execute_result"
    }
   ],
   "source": [
    "df_food.head()"
   ]
  },
  {
   "cell_type": "code",
   "execution_count": 30,
   "metadata": {},
   "outputs": [
    {
     "data": {
      "text/plain": [
       "restaurant         2395\n",
       "food_name             0\n",
       "calories_kcal         0\n",
       "total_fat_g           0\n",
       "saturated_fat_g       0\n",
       "cholesterol_mg        0\n",
       "sodium_g              0\n",
       "carbohydrates_g       0\n",
       "fiber_g               0\n",
       "sugar_g               0\n",
       "protein_g             0\n",
       "vitamin_A_mg          0\n",
       "vitamin_C_mg          0\n",
       "calcium_mg            0\n",
       "category              0\n",
       "dtype: int64"
      ]
     },
     "execution_count": 30,
     "metadata": {},
     "output_type": "execute_result"
    }
   ],
   "source": [
    "df_food.isna().sum()"
   ]
  },
  {
   "cell_type": "code",
   "execution_count": 31,
   "metadata": {},
   "outputs": [
    {
     "data": {
      "text/plain": [
       "restaurant         0\n",
       "food_name          0\n",
       "calories_kcal      0\n",
       "total_fat_g        0\n",
       "saturated_fat_g    0\n",
       "cholesterol_mg     0\n",
       "sodium_g           0\n",
       "carbohydrates_g    0\n",
       "fiber_g            0\n",
       "sugar_g            0\n",
       "protein_g          0\n",
       "vitamin_A_mg       0\n",
       "vitamin_C_mg       0\n",
       "calcium_mg         0\n",
       "category           0\n",
       "dtype: int64"
      ]
     },
     "execution_count": 31,
     "metadata": {},
     "output_type": "execute_result"
    }
   ],
   "source": [
    "df_food = df_food.fillna('Not Fast Food')\n",
    "df_food.isna().sum()"
   ]
  },
  {
   "cell_type": "code",
   "execution_count": 33,
   "metadata": {},
   "outputs": [],
   "source": [
    "df_food = df_food.apply(lambda x: x.str.replace('®', '', regex=False) if x.dtype == \"object\" else x)"
   ]
  },
  {
   "cell_type": "code",
   "execution_count": 37,
   "metadata": {},
   "outputs": [],
   "source": [
    "df_food.to_csv('df_food_combine_dataset', index=True)"
   ]
  }
 ],
 "metadata": {
  "kernelspec": {
   "display_name": "base",
   "language": "python",
   "name": "python3"
  },
  "language_info": {
   "codemirror_mode": {
    "name": "ipython",
    "version": 3
   },
   "file_extension": ".py",
   "mimetype": "text/x-python",
   "name": "python",
   "nbconvert_exporter": "python",
   "pygments_lexer": "ipython3",
   "version": "3.12.4"
  }
 },
 "nbformat": 4,
 "nbformat_minor": 2
}
