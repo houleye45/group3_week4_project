{
 "cells": [
  {
   "cell_type": "code",
   "execution_count": 53,
   "id": "f77f18e8-bf6e-4e84-a27f-d213c8a230b7",
   "metadata": {},
   "outputs": [],
   "source": [
    "import pandas as pd\n",
    "\n",
    "url = 'https://raw.githubusercontent.com/houleye45/group3_week4_project/main/data/raw/FOOD-DATA-GROUP5.csv'\n",
    "general_food = pd.read_csv(url)"
   ]
  },
  {
   "cell_type": "code",
   "execution_count": 54,
   "id": "a710f389-769c-44a3-a712-6e5b1838f51d",
   "metadata": {},
   "outputs": [
    {
     "data": {
      "text/plain": [
       "<bound method NDFrame.head of      Unnamed: 0.1  Unnamed: 0                      food  Caloric Value  \\\n",
       "0               0           0    margarine with yoghurt             88   \n",
       "1               1           1     sunflower seed butter             99   \n",
       "2               2           2              hazelnut oil            120   \n",
       "3               3           3         menhaden fish oil           1966   \n",
       "4               4           4        cod liver fish oil            123   \n",
       "..            ...         ...                       ...            ...   \n",
       "717           717         717                  jews ear             25   \n",
       "718           718         718           enoki mushrooms              1   \n",
       "719           719         719           morel mushrooms              4   \n",
       "720           720         720  portabella mushrooms raw             19   \n",
       "721           721         721           oyster mushroom              5   \n",
       "\n",
       "         Fat  Saturated Fats  Monounsaturated Fats  Polyunsaturated Fats  \\\n",
       "0      9.800           1.900                 5.600                 2.000   \n",
       "1      8.800           0.700                 6.200                 1.600   \n",
       "2     13.600           1.000                10.600                 1.400   \n",
       "3    218.000          66.300                58.200                74.500   \n",
       "4     13.600           3.100                 6.400                 3.100   \n",
       "..       ...             ...                   ...                   ...   \n",
       "717    0.095           0.000                 0.000                 0.000   \n",
       "718    0.099           0.027                 0.000                 0.010   \n",
       "719    0.070           0.056                 0.031                 0.007   \n",
       "720    0.300           0.036                 0.016                 0.100   \n",
       "721    0.035           0.016                 0.039                 0.099   \n",
       "\n",
       "     Carbohydrates  Sugars  ...  Calcium  Copper   Iron  Magnesium  Manganese  \\\n",
       "0            0.073   0.000  ...      2.8   0.001  0.027      0.300      0.000   \n",
       "1            3.700   1.700  ...     10.2   0.300  0.700     49.800      0.300   \n",
       "2            0.000   0.000  ...      0.0   0.000  0.000      0.000      0.000   \n",
       "3            0.000   0.000  ...      0.0   0.000  0.000      0.000      0.000   \n",
       "4            0.000   0.000  ...      0.0   0.000  0.000      0.000      0.000   \n",
       "..             ...     ...  ...      ...     ...    ...        ...        ...   \n",
       "717          6.700   0.000  ...     15.8   0.400  0.600     24.800      0.040   \n",
       "718          0.200   0.034  ...      0.0   0.000  0.099      0.034      0.500   \n",
       "719          0.700   0.096  ...      0.0   5.500  0.056      1.600      2.500   \n",
       "720          3.300   2.200  ...      2.6   0.200  0.300      0.000      0.092   \n",
       "721          0.900   0.200  ...      0.0   0.500  0.008      0.200      2.700   \n",
       "\n",
       "     Phosphorus  Potassium  Selenium   Zinc  Nutrition Density  \n",
       "0         2.200        3.5     0.000  0.008             12.971  \n",
       "1       106.600       92.2     0.075  0.800             27.500  \n",
       "2         0.000        0.0     0.000  0.000             13.600  \n",
       "3         0.000        0.0     0.000  0.000            218.000  \n",
       "4         0.000        0.0     0.000  0.000             17.700  \n",
       "..          ...        ...       ...    ...                ...  \n",
       "717      13.900       42.6     0.034  0.700             24.249  \n",
       "718       0.015        3.2    10.800  0.096              0.433  \n",
       "719       0.060       25.0    53.000  0.069              1.727  \n",
       "720      92.900      313.0     0.015  0.500              9.400  \n",
       "721       0.055       18.0    63.000  0.048              1.804  \n",
       "\n",
       "[722 rows x 37 columns]>"
      ]
     },
     "execution_count": 54,
     "metadata": {},
     "output_type": "execute_result"
    }
   ],
   "source": [
    "general_food.head"
   ]
  },
  {
   "cell_type": "code",
   "execution_count": 55,
   "id": "804cbf87",
   "metadata": {},
   "outputs": [
    {
     "data": {
      "text/plain": [
       "Index(['Unnamed: 0.1', 'Unnamed: 0', 'food', 'Caloric Value', 'Fat',\n",
       "       'Saturated Fats', 'Monounsaturated Fats', 'Polyunsaturated Fats',\n",
       "       'Carbohydrates', 'Sugars', 'Protein', 'Dietary Fiber', 'Cholesterol',\n",
       "       'Sodium', 'Water', 'Vitamin A', 'Vitamin B1', 'Vitamin B11',\n",
       "       'Vitamin B12', 'Vitamin B2', 'Vitamin B3', 'Vitamin B5', 'Vitamin B6',\n",
       "       'Vitamin C', 'Vitamin D', 'Vitamin E', 'Vitamin K', 'Calcium', 'Copper',\n",
       "       'Iron', 'Magnesium', 'Manganese', 'Phosphorus', 'Potassium', 'Selenium',\n",
       "       'Zinc', 'Nutrition Density'],\n",
       "      dtype='object')"
      ]
     },
     "execution_count": 55,
     "metadata": {},
     "output_type": "execute_result"
    }
   ],
   "source": [
    "general_food.columns"
   ]
  },
  {
   "cell_type": "code",
   "execution_count": 56,
   "id": "c72ec99f",
   "metadata": {},
   "outputs": [],
   "source": [
    "#Formatting the columns\n",
    "general_food = general_food.rename(columns={ col: col.replace(\" \",\"_\").lower() for col in general_food.columns })"
   ]
  },
  {
   "cell_type": "code",
   "execution_count": 57,
   "id": "e5c60f36",
   "metadata": {},
   "outputs": [
    {
     "data": {
      "text/plain": [
       "Index(['unnamed:_0.1', 'unnamed:_0', 'food', 'caloric_value', 'fat',\n",
       "       'saturated_fats', 'monounsaturated_fats', 'polyunsaturated_fats',\n",
       "       'carbohydrates', 'sugars', 'protein', 'dietary_fiber', 'cholesterol',\n",
       "       'sodium', 'water', 'vitamin_a', 'vitamin_b1', 'vitamin_b11',\n",
       "       'vitamin_b12', 'vitamin_b2', 'vitamin_b3', 'vitamin_b5', 'vitamin_b6',\n",
       "       'vitamin_c', 'vitamin_d', 'vitamin_e', 'vitamin_k', 'calcium', 'copper',\n",
       "       'iron', 'magnesium', 'manganese', 'phosphorus', 'potassium', 'selenium',\n",
       "       'zinc', 'nutrition_density'],\n",
       "      dtype='object')"
      ]
     },
     "execution_count": 57,
     "metadata": {},
     "output_type": "execute_result"
    }
   ],
   "source": [
    "general_food.columns"
   ]
  },
  {
   "cell_type": "code",
   "execution_count": 60,
   "id": "d63bf0cf",
   "metadata": {},
   "outputs": [],
   "source": [
    "#Keeping the columns we need \n",
    "\n",
    "new_columns = {\n",
    "    \"food\": \"food_name\", \n",
    "    \"caloric_value\": \"calories_kcal\", \n",
    "    \"fat\": \"total_fat_g\", \n",
    "    \"saturated_fats\": \"saturated_fat_g\", \n",
    "    \"cholesterol\": \"cholesterol_mg\",\n",
    "    \"sodium\": \"sodium_g\", \n",
    "    \"carbohydrates\": \"carbohydrates_g\",  \n",
    "    \"dietary_fiber\": \"fiber_g\", \n",
    "    \"sugars\": \"sugar_g\",\n",
    "    \"protein\": \"protein_g\", \n",
    "    \"vitamin_a\": \"vitamin_A_mg\", \n",
    "    \"vitamin_c\": \"vitamin_C_mg\", \n",
    "    \"calcium\": \"calcium_mg\"\n",
    "}\n",
    "\n",
    "general_food.rename(columns=new_columns, inplace=True)\n",
    "\n",
    "general_food = general_food[list(new_columns.values())]\n"
   ]
  },
  {
   "cell_type": "code",
   "execution_count": 61,
   "id": "a12af947",
   "metadata": {},
   "outputs": [
    {
     "data": {
      "text/plain": [
       "Index(['food_name', 'calories_kcal', 'total_fat_g', 'saturated_fat_g',\n",
       "       'cholesterol_mg', 'sodium_g', 'carbohydrates_g', 'fiber_g', 'sugar_g',\n",
       "       'protein_g', 'vitamin_A_mg', 'vitamin_C_mg', 'calcium_mg'],\n",
       "      dtype='object')"
      ]
     },
     "execution_count": 61,
     "metadata": {},
     "output_type": "execute_result"
    }
   ],
   "source": [
    "general_food.columns"
   ]
  },
  {
   "cell_type": "code",
   "execution_count": 62,
   "id": "bd0f42db",
   "metadata": {},
   "outputs": [
    {
     "data": {
      "text/plain": [
       "food_name          0\n",
       "calories_kcal      0\n",
       "total_fat_g        0\n",
       "saturated_fat_g    0\n",
       "cholesterol_mg     0\n",
       "sodium_g           0\n",
       "carbohydrates_g    0\n",
       "fiber_g            0\n",
       "sugar_g            0\n",
       "protein_g          0\n",
       "vitamin_A_mg       0\n",
       "vitamin_C_mg       0\n",
       "calcium_mg         0\n",
       "dtype: int64"
      ]
     },
     "execution_count": 62,
     "metadata": {},
     "output_type": "execute_result"
    }
   ],
   "source": [
    "#Checking null values \n",
    "general_food.isna().sum()"
   ]
  },
  {
   "cell_type": "code",
   "execution_count": 65,
   "id": "1c244bd0",
   "metadata": {},
   "outputs": [
    {
     "data": {
      "text/plain": [
       "food_name\n",
       "oyster mushroom           1\n",
       "margarine with yoghurt    1\n",
       "sunflower seed butter     1\n",
       "hazelnut oil              1\n",
       "menhaden fish oil         1\n",
       "                         ..\n",
       "sour cream shoprite       1\n",
       "ucuhuba butter oil        1\n",
       "chicken fat               1\n",
       "herring fish oil          1\n",
       "bacon grease              1\n",
       "Name: count, Length: 722, dtype: int64"
      ]
     },
     "execution_count": 65,
     "metadata": {},
     "output_type": "execute_result"
    }
   ],
   "source": [
    "#Checking duplicates\n",
    "general_food.food_name.value_counts()"
   ]
  },
  {
   "cell_type": "code",
   "execution_count": 67,
   "id": "082143ce",
   "metadata": {},
   "outputs": [
    {
     "data": {
      "text/plain": [
       "food_name           object\n",
       "calories_kcal        int64\n",
       "total_fat_g        float64\n",
       "saturated_fat_g    float64\n",
       "cholesterol_mg     float64\n",
       "sodium_g           float64\n",
       "carbohydrates_g    float64\n",
       "fiber_g            float64\n",
       "sugar_g            float64\n",
       "protein_g          float64\n",
       "vitamin_A_mg       float64\n",
       "vitamin_C_mg       float64\n",
       "calcium_mg         float64\n",
       "dtype: object"
      ]
     },
     "execution_count": 67,
     "metadata": {},
     "output_type": "execute_result"
    }
   ],
   "source": [
    "#Checking types \n",
    "general_food.dtypes"
   ]
  },
  {
   "cell_type": "code",
   "execution_count": 73,
   "id": "2e7baf90",
   "metadata": {},
   "outputs": [
    {
     "data": {
      "text/html": [
       "<div>\n",
       "<style scoped>\n",
       "    .dataframe tbody tr th:only-of-type {\n",
       "        vertical-align: middle;\n",
       "    }\n",
       "\n",
       "    .dataframe tbody tr th {\n",
       "        vertical-align: top;\n",
       "    }\n",
       "\n",
       "    .dataframe thead th {\n",
       "        text-align: right;\n",
       "    }\n",
       "</style>\n",
       "<table border=\"1\" class=\"dataframe\">\n",
       "  <thead>\n",
       "    <tr style=\"text-align: right;\">\n",
       "      <th></th>\n",
       "      <th>food_name</th>\n",
       "      <th>calories_kcal</th>\n",
       "      <th>total_fat_g</th>\n",
       "      <th>saturated_fat_g</th>\n",
       "      <th>cholesterol_mg</th>\n",
       "      <th>sodium_g</th>\n",
       "      <th>carbohydrates_g</th>\n",
       "      <th>fiber_g</th>\n",
       "      <th>sugar_g</th>\n",
       "      <th>protein_g</th>\n",
       "      <th>vitamin_A_mg</th>\n",
       "      <th>vitamin_C_mg</th>\n",
       "      <th>calcium_mg</th>\n",
       "    </tr>\n",
       "  </thead>\n",
       "  <tbody>\n",
       "    <tr>\n",
       "      <th>0</th>\n",
       "      <td>margarine with yoghurt</td>\n",
       "      <td>88</td>\n",
       "      <td>9.8</td>\n",
       "      <td>1.9</td>\n",
       "      <td>0.0</td>\n",
       "      <td>0.018</td>\n",
       "      <td>0.073</td>\n",
       "      <td>0.0</td>\n",
       "      <td>0.0</td>\n",
       "      <td>0.058</td>\n",
       "      <td>0.1</td>\n",
       "      <td>0.082</td>\n",
       "      <td>2.8</td>\n",
       "    </tr>\n",
       "    <tr>\n",
       "      <th>1</th>\n",
       "      <td>sunflower seed butter</td>\n",
       "      <td>99</td>\n",
       "      <td>8.8</td>\n",
       "      <td>0.7</td>\n",
       "      <td>0.0</td>\n",
       "      <td>0.065</td>\n",
       "      <td>3.700</td>\n",
       "      <td>0.9</td>\n",
       "      <td>1.7</td>\n",
       "      <td>2.800</td>\n",
       "      <td>0.0</td>\n",
       "      <td>0.400</td>\n",
       "      <td>10.2</td>\n",
       "    </tr>\n",
       "    <tr>\n",
       "      <th>2</th>\n",
       "      <td>hazelnut oil</td>\n",
       "      <td>120</td>\n",
       "      <td>13.6</td>\n",
       "      <td>1.0</td>\n",
       "      <td>0.0</td>\n",
       "      <td>0.000</td>\n",
       "      <td>0.000</td>\n",
       "      <td>0.0</td>\n",
       "      <td>0.0</td>\n",
       "      <td>0.000</td>\n",
       "      <td>0.0</td>\n",
       "      <td>0.000</td>\n",
       "      <td>0.0</td>\n",
       "    </tr>\n",
       "    <tr>\n",
       "      <th>3</th>\n",
       "      <td>menhaden fish oil</td>\n",
       "      <td>1966</td>\n",
       "      <td>218.0</td>\n",
       "      <td>66.3</td>\n",
       "      <td>1135.8</td>\n",
       "      <td>0.000</td>\n",
       "      <td>0.000</td>\n",
       "      <td>0.0</td>\n",
       "      <td>0.0</td>\n",
       "      <td>0.000</td>\n",
       "      <td>0.0</td>\n",
       "      <td>0.000</td>\n",
       "      <td>0.0</td>\n",
       "    </tr>\n",
       "    <tr>\n",
       "      <th>4</th>\n",
       "      <td>cod liver fish oil</td>\n",
       "      <td>123</td>\n",
       "      <td>13.6</td>\n",
       "      <td>3.1</td>\n",
       "      <td>77.5</td>\n",
       "      <td>0.000</td>\n",
       "      <td>0.000</td>\n",
       "      <td>0.0</td>\n",
       "      <td>0.0</td>\n",
       "      <td>0.000</td>\n",
       "      <td>4.1</td>\n",
       "      <td>0.000</td>\n",
       "      <td>0.0</td>\n",
       "    </tr>\n",
       "  </tbody>\n",
       "</table>\n",
       "</div>"
      ],
      "text/plain": [
       "                food_name  calories_kcal  total_fat_g  saturated_fat_g  \\\n",
       "0  margarine with yoghurt             88          9.8              1.9   \n",
       "1   sunflower seed butter             99          8.8              0.7   \n",
       "2            hazelnut oil            120         13.6              1.0   \n",
       "3       menhaden fish oil           1966        218.0             66.3   \n",
       "4      cod liver fish oil            123         13.6              3.1   \n",
       "\n",
       "   cholesterol_mg  sodium_g  carbohydrates_g  fiber_g  sugar_g  protein_g  \\\n",
       "0             0.0     0.018            0.073      0.0      0.0      0.058   \n",
       "1             0.0     0.065            3.700      0.9      1.7      2.800   \n",
       "2             0.0     0.000            0.000      0.0      0.0      0.000   \n",
       "3          1135.8     0.000            0.000      0.0      0.0      0.000   \n",
       "4            77.5     0.000            0.000      0.0      0.0      0.000   \n",
       "\n",
       "   vitamin_A_mg  vitamin_C_mg  calcium_mg  \n",
       "0           0.1         0.082         2.8  \n",
       "1           0.0         0.400        10.2  \n",
       "2           0.0         0.000         0.0  \n",
       "3           0.0         0.000         0.0  \n",
       "4           4.1         0.000         0.0  "
      ]
     },
     "execution_count": 73,
     "metadata": {},
     "output_type": "execute_result"
    }
   ],
   "source": [
    "#Cleaned dataset!\n",
    "general_food.head()"
   ]
  },
  {
   "cell_type": "code",
   "execution_count": 70,
   "id": "966a440a",
   "metadata": {},
   "outputs": [
    {
     "data": {
      "text/plain": [
       "(722, 13)"
      ]
     },
     "execution_count": 70,
     "metadata": {},
     "output_type": "execute_result"
    }
   ],
   "source": [
    "general_food.shape"
   ]
  },
  {
   "cell_type": "code",
   "execution_count": 72,
   "id": "b6eaf645",
   "metadata": {},
   "outputs": [
    {
     "data": {
      "text/html": [
       "<div>\n",
       "<style scoped>\n",
       "    .dataframe tbody tr th:only-of-type {\n",
       "        vertical-align: middle;\n",
       "    }\n",
       "\n",
       "    .dataframe tbody tr th {\n",
       "        vertical-align: top;\n",
       "    }\n",
       "\n",
       "    .dataframe thead th {\n",
       "        text-align: right;\n",
       "    }\n",
       "</style>\n",
       "<table border=\"1\" class=\"dataframe\">\n",
       "  <thead>\n",
       "    <tr style=\"text-align: right;\">\n",
       "      <th></th>\n",
       "      <th>calories_kcal</th>\n",
       "      <th>total_fat_g</th>\n",
       "      <th>saturated_fat_g</th>\n",
       "      <th>cholesterol_mg</th>\n",
       "      <th>sodium_g</th>\n",
       "      <th>carbohydrates_g</th>\n",
       "      <th>fiber_g</th>\n",
       "      <th>sugar_g</th>\n",
       "      <th>protein_g</th>\n",
       "      <th>vitamin_A_mg</th>\n",
       "      <th>vitamin_C_mg</th>\n",
       "      <th>calcium_mg</th>\n",
       "    </tr>\n",
       "  </thead>\n",
       "  <tbody>\n",
       "    <tr>\n",
       "      <th>count</th>\n",
       "      <td>722.000000</td>\n",
       "      <td>722.000000</td>\n",
       "      <td>722.000000</td>\n",
       "      <td>722.000000</td>\n",
       "      <td>722.000000</td>\n",
       "      <td>722.000000</td>\n",
       "      <td>722.000000</td>\n",
       "      <td>722.000000</td>\n",
       "      <td>722.000000</td>\n",
       "      <td>722.000000</td>\n",
       "      <td>722.000000</td>\n",
       "      <td>722.000000</td>\n",
       "    </tr>\n",
       "    <tr>\n",
       "      <th>mean</th>\n",
       "      <td>124.490305</td>\n",
       "      <td>5.592144</td>\n",
       "      <td>1.829550</td>\n",
       "      <td>4.893075</td>\n",
       "      <td>0.274438</td>\n",
       "      <td>15.770335</td>\n",
       "      <td>2.077719</td>\n",
       "      <td>3.097204</td>\n",
       "      <td>3.520122</td>\n",
       "      <td>0.025839</td>\n",
       "      <td>8.878006</td>\n",
       "      <td>37.683823</td>\n",
       "    </tr>\n",
       "    <tr>\n",
       "      <th>std</th>\n",
       "      <td>218.128817</td>\n",
       "      <td>19.851477</td>\n",
       "      <td>11.135124</td>\n",
       "      <td>44.449536</td>\n",
       "      <td>1.862910</td>\n",
       "      <td>23.106365</td>\n",
       "      <td>3.505197</td>\n",
       "      <td>7.878036</td>\n",
       "      <td>6.511791</td>\n",
       "      <td>0.214544</td>\n",
       "      <td>28.536063</td>\n",
       "      <td>84.010817</td>\n",
       "    </tr>\n",
       "    <tr>\n",
       "      <th>min</th>\n",
       "      <td>0.000000</td>\n",
       "      <td>0.000000</td>\n",
       "      <td>0.000000</td>\n",
       "      <td>0.000000</td>\n",
       "      <td>0.000000</td>\n",
       "      <td>0.000000</td>\n",
       "      <td>0.000000</td>\n",
       "      <td>0.000000</td>\n",
       "      <td>0.000000</td>\n",
       "      <td>0.000000</td>\n",
       "      <td>0.000000</td>\n",
       "      <td>0.000000</td>\n",
       "    </tr>\n",
       "    <tr>\n",
       "      <th>25%</th>\n",
       "      <td>24.250000</td>\n",
       "      <td>0.200000</td>\n",
       "      <td>0.043250</td>\n",
       "      <td>0.000000</td>\n",
       "      <td>0.030000</td>\n",
       "      <td>2.025000</td>\n",
       "      <td>0.079000</td>\n",
       "      <td>0.000000</td>\n",
       "      <td>0.300000</td>\n",
       "      <td>0.000000</td>\n",
       "      <td>0.000000</td>\n",
       "      <td>0.074000</td>\n",
       "    </tr>\n",
       "    <tr>\n",
       "      <th>50%</th>\n",
       "      <td>68.500000</td>\n",
       "      <td>0.700000</td>\n",
       "      <td>0.100000</td>\n",
       "      <td>0.000000</td>\n",
       "      <td>0.082500</td>\n",
       "      <td>8.150000</td>\n",
       "      <td>0.950000</td>\n",
       "      <td>0.700000</td>\n",
       "      <td>1.800000</td>\n",
       "      <td>0.000000</td>\n",
       "      <td>0.095500</td>\n",
       "      <td>8.150000</td>\n",
       "    </tr>\n",
       "    <tr>\n",
       "      <th>75%</th>\n",
       "      <td>123.000000</td>\n",
       "      <td>4.375000</td>\n",
       "      <td>0.875000</td>\n",
       "      <td>0.000000</td>\n",
       "      <td>0.200000</td>\n",
       "      <td>19.775000</td>\n",
       "      <td>2.800000</td>\n",
       "      <td>3.000000</td>\n",
       "      <td>3.700000</td>\n",
       "      <td>0.000000</td>\n",
       "      <td>2.675000</td>\n",
       "      <td>35.225000</td>\n",
       "    </tr>\n",
       "    <tr>\n",
       "      <th>max</th>\n",
       "      <td>1966.000000</td>\n",
       "      <td>218.000000</td>\n",
       "      <td>196.200000</td>\n",
       "      <td>1135.800000</td>\n",
       "      <td>49.400000</td>\n",
       "      <td>190.100000</td>\n",
       "      <td>50.200000</td>\n",
       "      <td>105.000000</td>\n",
       "      <td>67.900000</td>\n",
       "      <td>4.100000</td>\n",
       "      <td>348.400000</td>\n",
       "      <td>868.000000</td>\n",
       "    </tr>\n",
       "  </tbody>\n",
       "</table>\n",
       "</div>"
      ],
      "text/plain": [
       "       calories_kcal  total_fat_g  saturated_fat_g  cholesterol_mg  \\\n",
       "count     722.000000   722.000000       722.000000      722.000000   \n",
       "mean      124.490305     5.592144         1.829550        4.893075   \n",
       "std       218.128817    19.851477        11.135124       44.449536   \n",
       "min         0.000000     0.000000         0.000000        0.000000   \n",
       "25%        24.250000     0.200000         0.043250        0.000000   \n",
       "50%        68.500000     0.700000         0.100000        0.000000   \n",
       "75%       123.000000     4.375000         0.875000        0.000000   \n",
       "max      1966.000000   218.000000       196.200000     1135.800000   \n",
       "\n",
       "         sodium_g  carbohydrates_g     fiber_g     sugar_g   protein_g  \\\n",
       "count  722.000000       722.000000  722.000000  722.000000  722.000000   \n",
       "mean     0.274438        15.770335    2.077719    3.097204    3.520122   \n",
       "std      1.862910        23.106365    3.505197    7.878036    6.511791   \n",
       "min      0.000000         0.000000    0.000000    0.000000    0.000000   \n",
       "25%      0.030000         2.025000    0.079000    0.000000    0.300000   \n",
       "50%      0.082500         8.150000    0.950000    0.700000    1.800000   \n",
       "75%      0.200000        19.775000    2.800000    3.000000    3.700000   \n",
       "max     49.400000       190.100000   50.200000  105.000000   67.900000   \n",
       "\n",
       "       vitamin_A_mg  vitamin_C_mg  calcium_mg  \n",
       "count    722.000000    722.000000  722.000000  \n",
       "mean       0.025839      8.878006   37.683823  \n",
       "std        0.214544     28.536063   84.010817  \n",
       "min        0.000000      0.000000    0.000000  \n",
       "25%        0.000000      0.000000    0.074000  \n",
       "50%        0.000000      0.095500    8.150000  \n",
       "75%        0.000000      2.675000   35.225000  \n",
       "max        4.100000    348.400000  868.000000  "
      ]
     },
     "execution_count": 72,
     "metadata": {},
     "output_type": "execute_result"
    }
   ],
   "source": [
    "general_food.describe()"
   ]
  }
 ],
 "metadata": {
  "kernelspec": {
   "display_name": "Python 3 (ipykernel)",
   "language": "python",
   "name": "python3"
  },
  "language_info": {
   "codemirror_mode": {
    "name": "ipython",
    "version": 3
   },
   "file_extension": ".py",
   "mimetype": "text/x-python",
   "name": "python",
   "nbconvert_exporter": "python",
   "pygments_lexer": "ipython3",
   "version": "3.12.4"
  }
 },
 "nbformat": 4,
 "nbformat_minor": 5
}
